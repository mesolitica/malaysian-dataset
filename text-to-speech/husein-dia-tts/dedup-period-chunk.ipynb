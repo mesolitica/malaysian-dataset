{
 "cells": [
  {
   "cell_type": "code",
   "execution_count": 17,
   "id": "79cfe084-37c4-452a-b5c2-5af630f28763",
   "metadata": {},
   "outputs": [
    {
     "data": {
      "text/plain": [
       "977091"
      ]
     },
     "execution_count": 17,
     "metadata": {},
     "output_type": "execute_result"
    }
   ],
   "source": [
    "import pandas as pd\n",
    "import json\n",
    "import os\n",
    "from tqdm import tqdm\n",
    "\n",
    "with open('accept-period.json') as fopen:\n",
    "    period = set(json.load(fopen))\n",
    "len(period)"
   ]
  },
  {
   "cell_type": "code",
   "execution_count": 4,
   "id": "5b5c196f-0ea4-405b-9046-538c9a545b4e",
   "metadata": {},
   "outputs": [],
   "source": [
    "df = pd.read_parquet('chunk-streaming-flatten.parquet')"
   ]
  },
  {
   "cell_type": "code",
   "execution_count": 6,
   "id": "5d0f1dd6-e9c0-4bcb-b18a-476e0230073c",
   "metadata": {},
   "outputs": [],
   "source": [
    "processed = pd.read_parquet('processed.parquet')"
   ]
  },
  {
   "cell_type": "code",
   "execution_count": 8,
   "id": "3924d747-8526-4561-807e-f336f1cf7173",
   "metadata": {},
   "outputs": [
    {
     "data": {
      "text/plain": [
       "reference_text              Uhm, hello, selamat pagi ye, saya dari custome...\n",
       "generate_text               Encik, bolehkah Encik memberikan maklum balas ...\n",
       "normalized_generate_text    Encik, bolehkah Encik memberikan maklum balas ...\n",
       "reference_audio                                          husein-assistant.mp3\n",
       "filename_audio                                   response-husein-v3/55420.mp3\n",
       "speaker                                                                husein\n",
       "similarity                                                           0.800952\n",
       "audio_length                                                         4.400181\n",
       "index                                                                 1367694\n",
       "alignment                   [{'end': 0.38, 'score': -3.89, 'start': 0.12, ...\n",
       "averaged_pitch              [279.365, 104.309, 97.318, 94.798, 95.233, 91....\n",
       "distances                   [0.073, 0.007, 0.012, 0.006, 0.007, 0.012, 0.0...\n",
       "Name: 0, dtype: object"
      ]
     },
     "execution_count": 8,
     "metadata": {},
     "output_type": "execute_result"
    }
   ],
   "source": [
    "processed.iloc[0]"
   ]
  },
  {
   "cell_type": "code",
   "execution_count": 16,
   "id": "e920f88e-87a6-46c9-b477-eba7640fc6ec",
   "metadata": {},
   "outputs": [
    {
     "name": "stderr",
     "output_type": "stream",
     "text": [
      "100%|██████████| 1645455/1645455 [00:28<00:00, 57632.93it/s]\n"
     ]
    },
    {
     "data": {
      "text/plain": [
       "977091"
      ]
     },
     "execution_count": 16,
     "metadata": {},
     "output_type": "execute_result"
    }
   ],
   "source": [
    "filenames = set()\n",
    "for i in tqdm(range(len(processed))):\n",
    "    if i not in period:\n",
    "        continue\n",
    "    f = processed.iloc[i]['filename_audio'].replace('/', '_').replace('.mp3', '')\n",
    "    filenames.add(f)\n",
    "len(filenames)"
   ]
  },
  {
   "cell_type": "code",
   "execution_count": 44,
   "id": "8301af98-71f0-4bac-8af1-98f25a40dbf6",
   "metadata": {},
   "outputs": [
    {
     "name": "stderr",
     "output_type": "stream",
     "text": [
      "100%|██████████| 5327569/5327569 [03:20<00:00, 26548.38it/s]\n"
     ]
    }
   ],
   "source": [
    "import re\n",
    "\n",
    "def clean(string):\n",
    "    string = re.sub('[^A-Za-z ]+', ' ', string)\n",
    "    string = re.sub(r'[ ]+', ' ', string).strip()\n",
    "    return string.lower()\n",
    "\n",
    "accepted = []\n",
    "already = set()\n",
    "for i in tqdm(range(len(df))):\n",
    "    splitted = os.path.split(df.iloc[i]['filename_audio'])[1].split('_')[:-1]\n",
    "    splitted = '_'.join(splitted)\n",
    "    speaker = 'husein' if 'husein' in df.iloc[i]['filename_audio'] else 'idayu'\n",
    "    if splitted not in filenames:\n",
    "        continue\n",
    "    t = speaker + clean(df.iloc[i]['text'])\n",
    "    if t in already:\n",
    "        continue\n",
    "\n",
    "    accepted.append(i)\n",
    "    already.add(t)"
   ]
  },
  {
   "cell_type": "code",
   "execution_count": 45,
   "id": "cf404594-42d6-4830-8e8a-01c741856dff",
   "metadata": {
    "scrolled": true
   },
   "outputs": [
    {
     "data": {
      "text/plain": [
       "2014337"
      ]
     },
     "execution_count": 45,
     "metadata": {},
     "output_type": "execute_result"
    }
   ],
   "source": [
    "len(accepted)"
   ]
  },
  {
   "cell_type": "code",
   "execution_count": 49,
   "id": "f1bbe2a3-88a4-4c66-a523-1db84b8d26bb",
   "metadata": {},
   "outputs": [],
   "source": [
    "with open('accept-chunk-streaming-flatten.json', 'w') as fopen:\n",
    "    json.dump(list(accepted), fopen)"
   ]
  },
  {
   "cell_type": "code",
   "execution_count": null,
   "id": "ef7aff83-9fc8-477f-a6c1-164ae1646831",
   "metadata": {},
   "outputs": [],
   "source": []
  }
 ],
 "metadata": {
  "kernelspec": {
   "display_name": "Python 3 (ipykernel)",
   "language": "python",
   "name": "python3"
  },
  "language_info": {
   "codemirror_mode": {
    "name": "ipython",
    "version": 3
   },
   "file_extension": ".py",
   "mimetype": "text/x-python",
   "name": "python",
   "nbconvert_exporter": "python",
   "pygments_lexer": "ipython3",
   "version": "3.11.6"
  }
 },
 "nbformat": 4,
 "nbformat_minor": 5
}
