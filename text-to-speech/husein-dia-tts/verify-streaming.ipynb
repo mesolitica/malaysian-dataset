{
 "cells": [
  {
   "cell_type": "code",
   "execution_count": 2,
   "id": "869684f0-ff00-4f0c-8f45-2d6bf860c61d",
   "metadata": {},
   "outputs": [
    {
     "data": {
      "text/plain": [
       "977091"
      ]
     },
     "execution_count": 2,
     "metadata": {},
     "output_type": "execute_result"
    }
   ],
   "source": [
    "import pandas as pd\n",
    "import json\n",
    "import os\n",
    "from tqdm import tqdm\n",
    "\n",
    "with open('accept-period.json') as fopen:\n",
    "    period = set(json.load(fopen))\n",
    "len(period)"
   ]
  },
  {
   "cell_type": "code",
   "execution_count": 9,
   "id": "19007fb8-b5f1-421c-a012-83ff6c6e534b",
   "metadata": {},
   "outputs": [],
   "source": [
    "processed = pd.read_parquet('processed.parquet')"
   ]
  },
  {
   "cell_type": "code",
   "execution_count": 10,
   "id": "5343fe9c-1b74-4cd1-92c4-c4f2245682c8",
   "metadata": {},
   "outputs": [
    {
     "name": "stderr",
     "output_type": "stream",
     "text": [
      "100%|██████████| 1645455/1645455 [00:29<00:00, 56468.79it/s]\n"
     ]
    },
    {
     "data": {
      "text/plain": [
       "977091"
      ]
     },
     "execution_count": 10,
     "metadata": {},
     "output_type": "execute_result"
    }
   ],
   "source": [
    "filenames = set()\n",
    "for i in tqdm(range(len(processed))):\n",
    "    if i not in period:\n",
    "        continue\n",
    "    f = processed.iloc[i]['filename_audio'].replace('/', '_').replace('.mp3', '')\n",
    "    filenames.add(f)\n",
    "len(filenames)"
   ]
  },
  {
   "cell_type": "code",
   "execution_count": 12,
   "id": "167e8c6b-19ef-48c4-a6ca-32265ca7173e",
   "metadata": {},
   "outputs": [],
   "source": [
    "df = pd.read_parquet('chunk-streaming.parquet')"
   ]
  },
  {
   "cell_type": "code",
   "execution_count": 20,
   "id": "5c86d24e-b27f-43fe-ba52-d3314d8364ce",
   "metadata": {},
   "outputs": [
    {
     "name": "stderr",
     "output_type": "stream",
     "text": [
      "100%|██████████| 1645455/1645455 [00:11<00:00, 142573.92it/s]\n"
     ]
    }
   ],
   "source": [
    "accepted = []\n",
    "for i in tqdm(range(len(df))):\n",
    "    f = df['chunk'].iloc[i][0][1]\n",
    "    splitted = os.path.split(f)[1].split('_')[:-1]\n",
    "    splitted = '_'.join(splitted)\n",
    "    if splitted in filenames:\n",
    "        accepted.append(i)"
   ]
  },
  {
   "cell_type": "code",
   "execution_count": 21,
   "id": "3e9b0496-de65-442d-a462-8fb7eb2e6f33",
   "metadata": {},
   "outputs": [
    {
     "data": {
      "text/plain": [
       "977091"
      ]
     },
     "execution_count": 21,
     "metadata": {},
     "output_type": "execute_result"
    }
   ],
   "source": [
    "len(accepted)"
   ]
  },
  {
   "cell_type": "code",
   "execution_count": 22,
   "id": "7774874f-b55f-485b-86b8-42af0159ccb4",
   "metadata": {},
   "outputs": [],
   "source": [
    "with open('accept-streaming-chunk.json', 'w') as fopen:\n",
    "    json.dump(list(accepted), fopen)"
   ]
  }
 ],
 "metadata": {
  "kernelspec": {
   "display_name": "Python 3 (ipykernel)",
   "language": "python",
   "name": "python3"
  },
  "language_info": {
   "codemirror_mode": {
    "name": "ipython",
    "version": 3
   },
   "file_extension": ".py",
   "mimetype": "text/x-python",
   "name": "python",
   "nbconvert_exporter": "python",
   "pygments_lexer": "ipython3",
   "version": "3.11.6"
  }
 },
 "nbformat": 4,
 "nbformat_minor": 5
}
