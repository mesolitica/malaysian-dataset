{
 "cells": [
  {
   "cell_type": "code",
   "execution_count": 14,
   "id": "a6893a95-fed2-4b96-9c32-e1fb920c15da",
   "metadata": {},
   "outputs": [],
   "source": [
    "import pandas as pd\n",
    "from multiprocess import Pool\n",
    "import itertools\n",
    "from tqdm import tqdm\n",
    "\n",
    "def chunks(l, n):\n",
    "    for i in range(0, len(l), n):\n",
    "        yield (l[i: i + n], i // n)\n",
    "\n",
    "def multiprocessing(strings, function, cores=6, returned=True):\n",
    "    df_split = chunks(strings, len(strings) // cores)\n",
    "    pool = Pool(cores)\n",
    "    pooled = pool.map(function, df_split)\n",
    "    pool.close()\n",
    "    pool.join()\n",
    "\n",
    "    if returned:\n",
    "        return list(itertools.chain(*pooled))"
   ]
  },
  {
   "cell_type": "code",
   "execution_count": 9,
   "id": "582c817f-36f6-43c2-b082-22f1458e9be4",
   "metadata": {},
   "outputs": [],
   "source": [
    "processed = pd.read_parquet('processed.parquet').to_dict(orient = 'records')\n",
    "processed = [(i, processed[i]) for i in range(len(processed))]"
   ]
  },
  {
   "cell_type": "code",
   "execution_count": 18,
   "id": "34762cdd-138a-426c-86be-e45d0022b0f2",
   "metadata": {},
   "outputs": [],
   "source": [
    "def loop(rows):\n",
    "    rows, _ = rows\n",
    "    accept = []\n",
    "    for row in tqdm(rows):\n",
    "        k, row = row\n",
    "        alignment = row['alignment']\n",
    "        failed = False\n",
    "        for i in range(len(alignment) - 1):\n",
    "            if alignment[i]['text'][-1] in ',.?!':\n",
    "                if (alignment[i + 1]['start'] - alignment[i]['end']) < 0.1:\n",
    "                    failed = True\n",
    "                    break\n",
    "        if failed:\n",
    "            continue\n",
    "\n",
    "        accept.append(k)\n",
    "    return accept"
   ]
  },
  {
   "cell_type": "code",
   "execution_count": 22,
   "id": "3f0b9616-2b2e-4257-9cad-6ad9f6041e51",
   "metadata": {},
   "outputs": [
    {
     "name": "stderr",
     "output_type": "stream",
     "text": [
      "100%|██████████| 1645455/1645455 [00:11<00:00, 143674.78it/s]\n"
     ]
    }
   ],
   "source": [
    "accept = loop((processed, 0))"
   ]
  },
  {
   "cell_type": "code",
   "execution_count": 23,
   "id": "a3b22d58-e052-4cca-97ff-9fa2f7ef470a",
   "metadata": {},
   "outputs": [
    {
     "data": {
      "text/plain": [
       "977091"
      ]
     },
     "execution_count": 23,
     "metadata": {},
     "output_type": "execute_result"
    }
   ],
   "source": [
    "len(accept)"
   ]
  },
  {
   "cell_type": "code",
   "execution_count": 42,
   "id": "0ef60313-32ae-4f79-beac-e35725260f69",
   "metadata": {},
   "outputs": [],
   "source": [
    "import json\n",
    "\n",
    "with open('accept-period.json', 'w') as fopen:\n",
    "    json.dump(accept, fopen)"
   ]
  }
 ],
 "metadata": {
  "kernelspec": {
   "display_name": "Python 3 (ipykernel)",
   "language": "python",
   "name": "python3"
  },
  "language_info": {
   "codemirror_mode": {
    "name": "ipython",
    "version": 3
   },
   "file_extension": ".py",
   "mimetype": "text/x-python",
   "name": "python",
   "nbconvert_exporter": "python",
   "pygments_lexer": "ipython3",
   "version": "3.11.6"
  }
 },
 "nbformat": 4,
 "nbformat_minor": 5
}
